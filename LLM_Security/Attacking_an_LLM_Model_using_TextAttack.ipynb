{
  "cells": [
    {
      "cell_type": "code",
      "execution_count": 1,
      "metadata": {
        "id": "9lg70OLhV4d5"
      },
      "outputs": [],
      "source": [
        "!pip install -q textattack==0.3.10"
      ]
    },
    {
      "cell_type": "code",
      "execution_count": 2,
      "metadata": {
        "id": "3ml3bRiEX489",
        "colab": {
          "base_uri": "https://localhost:8080/"
        },
        "outputId": "5c29b978-d878-483f-f487-8ac5bab9fe95"
      },
      "outputs": [
        {
          "output_type": "stream",
          "name": "stderr",
          "text": [
            "[nltk_data] Downloading package averaged_perceptron_tagger_eng to\n",
            "[nltk_data]     /root/nltk_data...\n",
            "[nltk_data]   Package averaged_perceptron_tagger_eng is already up-to-\n",
            "[nltk_data]       date!\n"
          ]
        },
        {
          "output_type": "execute_result",
          "data": {
            "text/plain": [
              "True"
            ]
          },
          "metadata": {},
          "execution_count": 2
        }
      ],
      "source": [
        "import nltk\n",
        "nltk.download('averaged_perceptron_tagger_eng')"
      ]
    },
    {
      "cell_type": "code",
      "execution_count": 3,
      "metadata": {
        "colab": {
          "base_uri": "https://localhost:8080/"
        },
        "id": "GXnRJ3-bWKPG",
        "outputId": "2c8034e1-857c-4be1-8ba9-533fb8d439cf"
      },
      "outputs": [
        {
          "output_type": "stream",
          "name": "stdout",
          "text": [
            "Using device: cuda\n"
          ]
        }
      ],
      "source": [
        "import torch\n",
        "from transformers import DistilBertTokenizer, DistilBertForSequenceClassification\n",
        "from torch.nn.functional import softmax\n",
        "\n",
        "model_name = \"distilbert-base-uncased-finetuned-sst-2-english\"\n",
        "revision = \"714eb0fa89d2f80546fda750413ed43d93601a13\"\n",
        "\n",
        "device = torch.device('cuda' if torch.cuda.is_available() else 'cpu')\n",
        "print(f\"Using device: {device}\")"
      ]
    },
    {
      "cell_type": "code",
      "execution_count": 4,
      "metadata": {
        "colab": {
          "base_uri": "https://localhost:8080/"
        },
        "id": "6hdG7cI4vcBN",
        "outputId": "561bf271-6bc7-4558-fb0c-6f85f37c95b6"
      },
      "outputs": [
        {
          "output_type": "stream",
          "name": "stderr",
          "text": [
            "/usr/local/lib/python3.11/dist-packages/huggingface_hub/utils/_auth.py:94: UserWarning: \n",
            "The secret `HF_TOKEN` does not exist in your Colab secrets.\n",
            "To authenticate with the Hugging Face Hub, create a token in your settings tab (https://huggingface.co/settings/tokens), set it as secret in your Google Colab and restart your session.\n",
            "You will be able to reuse this secret in all of your notebooks.\n",
            "Please note that authentication is recommended but still optional to access public models or datasets.\n",
            "  warnings.warn(\n"
          ]
        }
      ],
      "source": [
        "from transformers import DistilBertTokenizer, DistilBertForSequenceClassification\n",
        "from torch.nn.functional import softmax\n",
        "import torch\n",
        "\n",
        "# Load the model and tokenizer\n",
        "tokenizer = DistilBertTokenizer.from_pretrained(model_name, revision=revision)\n",
        "model = DistilBertForSequenceClassification.from_pretrained(model_name, revision=revision).to(device)\n",
        "\n",
        "# Set the model to evaluation mode\n",
        "model.eval()\n",
        "\n",
        "def predict_sentiment(text):\n",
        "    # Tokenize the input text and prepare it as PyTorch tensors\n",
        "    inputs = tokenizer(text, return_tensors=\"pt\", truncation=True, padding=True)\n",
        "\n",
        "    # Move tensors to the appropriate device (CPU or GPU)\n",
        "    inputs = {key: value.to(device) for key, value in inputs.items()}\n",
        "\n",
        "    # Disable gradient calculation to save memory and speed up inference\n",
        "    with torch.no_grad():\n",
        "        outputs = model(**inputs)  # Perform a forward pass\n",
        "        predictions = softmax(outputs.logits, dim=1)  # Convert logits to probabilities\n",
        "\n",
        "    # Extract probabilities for each class (index 0 = negative, 1 = positive)\n",
        "    negative_prob = predictions[0][0].item()\n",
        "    positive_prob = predictions[0][1].item()\n",
        "\n",
        "    # Determine the sentiment label based on the higher probability\n",
        "    label = \"POSITIVE\" if positive_prob > negative_prob else \"NEGATIVE\"\n",
        "    confidence = positive_prob if label == \"POSITIVE\" else negative_prob\n",
        "\n",
        "    # Return the result as a dictionary\n",
        "    return {\n",
        "        \"label\": label,\n",
        "        \"confidence\": confidence,\n",
        "        \"probabilities\": {\n",
        "            \"negative\": negative_prob,\n",
        "            \"positive\": positive_prob\n",
        "        }\n",
        "    }\n"
      ]
    },
    {
      "cell_type": "code",
      "execution_count": 5,
      "metadata": {
        "colab": {
          "base_uri": "https://localhost:8080/",
          "height": 465,
          "referenced_widgets": [
            "78a4f7a45cf247499d494ea798d51fee",
            "02927362e1b642fcb089c3be893bcb19",
            "13ef188b55cf4e1fa1e4e060b86bb295",
            "5b63227f1f76411da83068490e737530",
            "3129b9d5d0be4e89a7218f28cb729ff6",
            "85336078f0bd4bc58dde844684c2a9ce"
          ]
        },
        "id": "D-ahX5apWR69",
        "outputId": "c0934fd0-ec0b-43a7-b094-89f414a8819d"
      },
      "outputs": [
        {
          "output_type": "display_data",
          "data": {
            "text/plain": [
              "Textarea(value='This movie is fantastic!', description='Text:', layout=Layout(height='80px', width='100%'), pl…"
            ],
            "application/vnd.jupyter.widget-view+json": {
              "version_major": 2,
              "version_minor": 0,
              "model_id": "78a4f7a45cf247499d494ea798d51fee"
            }
          },
          "metadata": {}
        },
        {
          "output_type": "display_data",
          "data": {
            "text/plain": [
              "Button(description='Predict Sentiment', style=ButtonStyle())"
            ],
            "application/vnd.jupyter.widget-view+json": {
              "version_major": 2,
              "version_minor": 0,
              "model_id": "5b63227f1f76411da83068490e737530"
            }
          },
          "metadata": {}
        },
        {
          "output_type": "stream",
          "name": "stdout",
          "text": [
            "\n",
            "Text: This movie is fantastic!\n",
            "Sentiment: POSITIVE\n",
            "Confidence: 0.9999\n",
            "Negative probability: 0.0001\n",
            "Positive probability: 0.9999\n",
            "\n",
            "Text: This movie is fantastic!\n",
            "Sentiment: POSITIVE\n",
            "Confidence: 0.9999\n",
            "Negative probability: 0.0001\n",
            "Positive probability: 0.9999\n",
            "\n",
            "Text: This movie is fantastic!\n",
            "Sentiment: POSITIVE\n",
            "Confidence: 0.9999\n",
            "Negative probability: 0.0001\n",
            "Positive probability: 0.9999\n"
          ]
        }
      ],
      "source": [
        "import sys\n",
        "\n",
        "# Try to detect if running in Google Colab\n",
        "def is_colab():\n",
        "    try:\n",
        "        import google.colab\n",
        "        return True\n",
        "    except ImportError:\n",
        "        return False\n",
        "\n",
        "if is_colab():\n",
        "    from IPython.display import display\n",
        "    import ipywidgets as widgets\n",
        "\n",
        "    def on_submit(b):\n",
        "        text = text_input.value\n",
        "        result = predict_sentiment(text)\n",
        "        print(f\"\\nText: {text}\")\n",
        "        print(f\"Sentiment: {result['label']}\")\n",
        "        print(f\"Confidence: {result['confidence']:.4f}\")\n",
        "        print(f\"Negative probability: {result['probabilities']['negative']:.4f}\")\n",
        "        print(f\"Positive probability: {result['probabilities']['positive']:.4f}\")\n",
        "\n",
        "    text_input = widgets.Textarea(\n",
        "        value=\"This movie is fantastic!\",\n",
        "        placeholder='Enter a sentence...',\n",
        "        description='Text:',\n",
        "        layout=widgets.Layout(width='100%', height='80px')\n",
        "    )\n",
        "\n",
        "    button = widgets.Button(description=\"Predict Sentiment\")\n",
        "    button.on_click(on_submit)\n",
        "\n",
        "    display(text_input, button)\n",
        "else:\n",
        "    print(\"Interactive UI is only available in Google Colab.\")\n"
      ]
    },
    {
      "cell_type": "code",
      "execution_count": 6,
      "metadata": {
        "id": "NYdi2bueW30p",
        "colab": {
          "base_uri": "https://localhost:8080/"
        },
        "outputId": "3d90a208-8268-4de6-8ed0-5779091843af"
      },
      "outputs": [
        {
          "output_type": "stream",
          "name": "stderr",
          "text": [
            "textattack: Unknown if model of class <class 'transformers.models.distilbert.modeling_distilbert.DistilBertForSequenceClassification'> compatible with goal function <class 'textattack.goal_functions.classification.untargeted_classification.UntargetedClassification'>.\n"
          ]
        },
        {
          "output_type": "stream",
          "name": "stdout",
          "text": [
            "Attack(\n",
            "  (search_method): GreedyWordSwapWIR(\n",
            "    (wir_method):  delete\n",
            "  )\n",
            "  (goal_function):  UntargetedClassification\n",
            "  (transformation):  WordSwapEmbedding(\n",
            "    (max_candidates):  50\n",
            "    (embedding):  WordEmbedding\n",
            "  )\n",
            "  (constraints): \n",
            "    (0): WordEmbeddingDistance(\n",
            "        (embedding):  WordEmbedding\n",
            "        (min_cos_sim):  0.5\n",
            "        (cased):  False\n",
            "        (include_unknown_words):  True\n",
            "        (compare_against_original):  True\n",
            "      )\n",
            "    (1): PartOfSpeech(\n",
            "        (tagger_type):  nltk\n",
            "        (tagset):  universal\n",
            "        (allow_verb_noun_swap):  True\n",
            "        (compare_against_original):  True\n",
            "      )\n",
            "    (2): UniversalSentenceEncoder(\n",
            "        (metric):  angular\n",
            "        (threshold):  0.840845057\n",
            "        (window_size):  15\n",
            "        (skip_text_shorter_than_window):  True\n",
            "        (compare_against_original):  False\n",
            "      )\n",
            "    (3): RepeatModification\n",
            "    (4): StopwordModification\n",
            "    (5): InputColumnModification(\n",
            "        (matching_column_labels):  ['premise', 'hypothesis']\n",
            "        (columns_to_ignore):  {'premise'}\n",
            "      )\n",
            "  (is_black_box):  True\n",
            ") \n",
            "\n"
          ]
        },
        {
          "output_type": "stream",
          "name": "stderr",
          "text": [
            "[Succeeded / Failed / Skipped / Total] 3 / 1 / 0 / 4: 100%|██████████| 4/4 [00:17<00:00,  4.31s/it]"
          ]
        },
        {
          "output_type": "stream",
          "name": "stdout",
          "text": [
            "\n",
            "+-------------------------------+--------+\n",
            "| Attack Results                |        |\n",
            "+-------------------------------+--------+\n",
            "| Number of successful attacks: | 3      |\n",
            "| Number of failed attacks:     | 1      |\n",
            "| Number of skipped attacks:    | 0      |\n",
            "| Original accuracy:            | 100.0% |\n",
            "| Accuracy under attack:        | 25.0%  |\n",
            "| Attack success rate:          | 75.0%  |\n",
            "| Average perturbed word %:     | 25.4%  |\n",
            "| Average num. words per input: | 6.25   |\n",
            "| Avg num queries:              | 90.25  |\n",
            "+-------------------------------+--------+\n",
            "\n",
            "Example 1:\n",
            "Original:  This movie is great and amazing!\n",
            "Attack failed.\n",
            "\n",
            "Example 2:\n",
            "Original:  This was a terrible waste of time.\n",
            "Attacked:  This was a towering jingles of date.\n",
            "\n",
            "Example 3:\n",
            "Original:  I really enjoyed watching this film.\n",
            "Attacked:  I really rained watching this film.\n",
            "\n",
            "Example 4:\n",
            "Original:  The worst movie I've ever seen.\n",
            "Attacked:  The finest movie I've ever seen.\n"
          ]
        },
        {
          "output_type": "stream",
          "name": "stderr",
          "text": [
            "\n"
          ]
        }
      ],
      "source": [
        "# Import the model wrapper interface and attack tools provided by TextAttack\n",
        "from textattack.models.wrappers import ModelWrapper  # All custom models must inherit from this class\n",
        "from textattack.attack_recipes import TextFoolerJin2019  # Import the default attack recipe (TextFooler is a classic adversarial attack algorithm for text)\n",
        "from textattack import Attacker, AttackArgs  # For configuring and executing the attack process\n",
        "from textattack.datasets import Dataset  # Used to wrap test data in TextAttack-compatible format\n",
        "from textattack.attack_results import SuccessfulAttackResult, FailedAttackResult  # To check whether the attack succeeded\n",
        "\n",
        "# Define a custom model wrapper\n",
        "# TextAttack interacts with models through a unified interface, so we wrap our sentiment classifier accordingly\n",
        "class SentimentWrapper(ModelWrapper):\n",
        "    def __init__(self):\n",
        "        self.model = model  # Use the previously loaded DistilBERT model\n",
        "\n",
        "    def __call__(self, text_inputs):\n",
        "        outputs = []\n",
        "        for text in text_inputs:\n",
        "            # For each input, call the previously defined predict_sentiment() function\n",
        "            result = predict_sentiment(text)\n",
        "            # Extract negative and positive probabilities as the model's prediction output\n",
        "            outputs.append([\n",
        "                result['probabilities']['negative'],\n",
        "                result['probabilities']['positive']\n",
        "            ])\n",
        "        # TextAttack expects the model to return a tensor (each row is [neg_prob, pos_prob])\n",
        "        return torch.tensor(outputs)\n",
        "\n",
        "# Create a test dataset, where each item is (sentence, label)\n",
        "# Label 1 = positive, 0 = negative\n",
        "dataset = Dataset([\n",
        "    (\"This movie is great and amazing!\", 1),\n",
        "    (\"This was a terrible waste of time.\", 0),\n",
        "    (\"I really enjoyed watching this film.\", 1),\n",
        "    (\"The worst movie I've ever seen.\", 0)\n",
        "])\n",
        "\n",
        "# Initialize the attack module\n",
        "model_wrapper = SentimentWrapper()  # Wrap the model in a TextAttack-compatible format\n",
        "attack = TextFoolerJin2019.build(model_wrapper)  # Use the TextFooler attack strategy\n",
        "\n",
        "# Configure attack parameters\n",
        "attack_args = AttackArgs(\n",
        "    num_examples=4,        # Number of samples to attack\n",
        "    disable_stdout=True    # Suppress detailed output (set to False to see full logs)\n",
        ")\n",
        "\n",
        "# Create the attacker and start the attack process\n",
        "attacker = Attacker(attack, dataset, attack_args)\n",
        "results = attacker.attack_dataset()  # Run the attack and collect results\n",
        "\n",
        "# Print the results for each example\n",
        "for i, result in enumerate(results, 1):\n",
        "    print(f\"\\nExample {i}:\")\n",
        "    print(f\"Original:  {result.original_text()}\")  # Show original input text\n",
        "    if isinstance(result, SuccessfulAttackResult):\n",
        "        print(f\"Attacked:  {result.perturbed_text()}\")  # Show the adversarial (perturbed) text\n",
        "    else:\n",
        "        print(\"Attack failed.\")  # If the model was not fooled, the attack is considered failed\n"
      ]
    },
    {
      "cell_type": "code",
      "execution_count": 6,
      "metadata": {
        "id": "NjXa7IqIXUoB"
      },
      "outputs": [],
      "source": []
    }
  ],
  "metadata": {
    "accelerator": "GPU",
    "colab": {
      "gpuType": "T4",
      "provenance": []
    },
    "kernelspec": {
      "display_name": "Python 3",
      "name": "python3"
    },
    "language_info": {
      "codemirror_mode": {
        "name": "ipython",
        "version": 3
      },
      "file_extension": ".py",
      "mimetype": "text/x-python",
      "name": "python",
      "nbconvert_exporter": "python",
      "pygments_lexer": "ipython3",
      "version": "3.12.2"
    },
    "widgets": {
      "application/vnd.jupyter.widget-state+json": {
        "78a4f7a45cf247499d494ea798d51fee": {
          "model_module": "@jupyter-widgets/controls",
          "model_name": "TextareaModel",
          "model_module_version": "1.5.0",
          "state": {
            "_dom_classes": [],
            "_model_module": "@jupyter-widgets/controls",
            "_model_module_version": "1.5.0",
            "_model_name": "TextareaModel",
            "_view_count": null,
            "_view_module": "@jupyter-widgets/controls",
            "_view_module_version": "1.5.0",
            "_view_name": "TextareaView",
            "continuous_update": true,
            "description": "Text:",
            "description_tooltip": null,
            "disabled": false,
            "layout": "IPY_MODEL_02927362e1b642fcb089c3be893bcb19",
            "placeholder": "Enter a sentence...",
            "rows": null,
            "style": "IPY_MODEL_13ef188b55cf4e1fa1e4e060b86bb295",
            "value": "This movie is fantastic!"
          }
        },
        "02927362e1b642fcb089c3be893bcb19": {
          "model_module": "@jupyter-widgets/base",
          "model_name": "LayoutModel",
          "model_module_version": "1.2.0",
          "state": {
            "_model_module": "@jupyter-widgets/base",
            "_model_module_version": "1.2.0",
            "_model_name": "LayoutModel",
            "_view_count": null,
            "_view_module": "@jupyter-widgets/base",
            "_view_module_version": "1.2.0",
            "_view_name": "LayoutView",
            "align_content": null,
            "align_items": null,
            "align_self": null,
            "border": null,
            "bottom": null,
            "display": null,
            "flex": null,
            "flex_flow": null,
            "grid_area": null,
            "grid_auto_columns": null,
            "grid_auto_flow": null,
            "grid_auto_rows": null,
            "grid_column": null,
            "grid_gap": null,
            "grid_row": null,
            "grid_template_areas": null,
            "grid_template_columns": null,
            "grid_template_rows": null,
            "height": "80px",
            "justify_content": null,
            "justify_items": null,
            "left": null,
            "margin": null,
            "max_height": null,
            "max_width": null,
            "min_height": null,
            "min_width": null,
            "object_fit": null,
            "object_position": null,
            "order": null,
            "overflow": null,
            "overflow_x": null,
            "overflow_y": null,
            "padding": null,
            "right": null,
            "top": null,
            "visibility": null,
            "width": "100%"
          }
        },
        "13ef188b55cf4e1fa1e4e060b86bb295": {
          "model_module": "@jupyter-widgets/controls",
          "model_name": "DescriptionStyleModel",
          "model_module_version": "1.5.0",
          "state": {
            "_model_module": "@jupyter-widgets/controls",
            "_model_module_version": "1.5.0",
            "_model_name": "DescriptionStyleModel",
            "_view_count": null,
            "_view_module": "@jupyter-widgets/base",
            "_view_module_version": "1.2.0",
            "_view_name": "StyleView",
            "description_width": ""
          }
        },
        "5b63227f1f76411da83068490e737530": {
          "model_module": "@jupyter-widgets/controls",
          "model_name": "ButtonModel",
          "model_module_version": "1.5.0",
          "state": {
            "_dom_classes": [],
            "_model_module": "@jupyter-widgets/controls",
            "_model_module_version": "1.5.0",
            "_model_name": "ButtonModel",
            "_view_count": null,
            "_view_module": "@jupyter-widgets/controls",
            "_view_module_version": "1.5.0",
            "_view_name": "ButtonView",
            "button_style": "",
            "description": "Predict Sentiment",
            "disabled": false,
            "icon": "",
            "layout": "IPY_MODEL_3129b9d5d0be4e89a7218f28cb729ff6",
            "style": "IPY_MODEL_85336078f0bd4bc58dde844684c2a9ce",
            "tooltip": ""
          }
        },
        "3129b9d5d0be4e89a7218f28cb729ff6": {
          "model_module": "@jupyter-widgets/base",
          "model_name": "LayoutModel",
          "model_module_version": "1.2.0",
          "state": {
            "_model_module": "@jupyter-widgets/base",
            "_model_module_version": "1.2.0",
            "_model_name": "LayoutModel",
            "_view_count": null,
            "_view_module": "@jupyter-widgets/base",
            "_view_module_version": "1.2.0",
            "_view_name": "LayoutView",
            "align_content": null,
            "align_items": null,
            "align_self": null,
            "border": null,
            "bottom": null,
            "display": null,
            "flex": null,
            "flex_flow": null,
            "grid_area": null,
            "grid_auto_columns": null,
            "grid_auto_flow": null,
            "grid_auto_rows": null,
            "grid_column": null,
            "grid_gap": null,
            "grid_row": null,
            "grid_template_areas": null,
            "grid_template_columns": null,
            "grid_template_rows": null,
            "height": null,
            "justify_content": null,
            "justify_items": null,
            "left": null,
            "margin": null,
            "max_height": null,
            "max_width": null,
            "min_height": null,
            "min_width": null,
            "object_fit": null,
            "object_position": null,
            "order": null,
            "overflow": null,
            "overflow_x": null,
            "overflow_y": null,
            "padding": null,
            "right": null,
            "top": null,
            "visibility": null,
            "width": null
          }
        },
        "85336078f0bd4bc58dde844684c2a9ce": {
          "model_module": "@jupyter-widgets/controls",
          "model_name": "ButtonStyleModel",
          "model_module_version": "1.5.0",
          "state": {
            "_model_module": "@jupyter-widgets/controls",
            "_model_module_version": "1.5.0",
            "_model_name": "ButtonStyleModel",
            "_view_count": null,
            "_view_module": "@jupyter-widgets/base",
            "_view_module_version": "1.2.0",
            "_view_name": "StyleView",
            "button_color": null,
            "font_weight": ""
          }
        }
      }
    }
  },
  "nbformat": 4,
  "nbformat_minor": 0
}