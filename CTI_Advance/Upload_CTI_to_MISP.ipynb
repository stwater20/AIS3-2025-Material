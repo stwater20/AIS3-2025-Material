{
  "cells": [
    {
      "cell_type": "markdown",
      "metadata": {
        "colab_type": "text",
        "id": "view-in-github"
      },
      "source": [
        "<a href=\"https://colab.research.google.com/github/stwater20/AIS3-2024-Material/blob/main/AIS3_0x7_upload_event_to_MISP.ipynb\" target=\"_parent\"><img src=\"https://colab.research.google.com/assets/colab-badge.svg\" alt=\"Open In Colab\"/></a>"
      ]
    },
    {
      "cell_type": "code",
      "execution_count": 2,
      "metadata": {
        "colab": {
          "base_uri": "https://localhost:8080/"
        },
        "id": "hZ5nYWerb2Zc",
        "outputId": "a7d8032c-2bf5-452a-c09e-8710e7896b46"
      },
      "outputs": [
        {
          "name": "stdout",
          "output_type": "stream",
          "text": [
            "Collecting pymisp\n",
            "  Downloading pymisp-2.5.12-py3-none-any.whl.metadata (8.9 kB)\n",
            "Collecting pycryptodome\n",
            "  Downloading pycryptodome-3.23.0-cp37-abi3-macosx_10_9_universal2.whl.metadata (3.4 kB)\n",
            "Collecting deprecated>=1.2.18 (from pymisp)\n",
            "  Using cached Deprecated-1.2.18-py2.py3-none-any.whl.metadata (5.7 kB)\n",
            "Collecting python-dateutil>=2.9.0.post0 (from pymisp)\n",
            "  Using cached python_dateutil-2.9.0.post0-py2.py3-none-any.whl.metadata (8.4 kB)\n",
            "Requirement already satisfied: requests>=2.32.3 in /opt/miniconda3/lib/python3.12/site-packages (from pymisp) (2.32.3)\n",
            "Requirement already satisfied: wrapt<2,>=1.10 in /opt/miniconda3/lib/python3.12/site-packages (from deprecated>=1.2.18->pymisp) (1.16.0)\n",
            "Requirement already satisfied: six>=1.5 in /opt/miniconda3/lib/python3.12/site-packages (from python-dateutil>=2.9.0.post0->pymisp) (1.16.0)\n",
            "Requirement already satisfied: charset-normalizer<4,>=2 in /opt/miniconda3/lib/python3.12/site-packages (from requests>=2.32.3->pymisp) (3.3.2)\n",
            "Requirement already satisfied: idna<4,>=2.5 in /opt/miniconda3/lib/python3.12/site-packages (from requests>=2.32.3->pymisp) (2.10)\n",
            "Requirement already satisfied: urllib3<3,>=1.21.1 in /opt/miniconda3/lib/python3.12/site-packages (from requests>=2.32.3->pymisp) (2.2.3)\n",
            "Requirement already satisfied: certifi>=2017.4.17 in /opt/miniconda3/lib/python3.12/site-packages (from requests>=2.32.3->pymisp) (2024.2.2)\n",
            "Downloading pymisp-2.5.12-py3-none-any.whl (481 kB)\n",
            "\u001b[2K   \u001b[90m━━━━━━━━━━━━━━━━━━━━━━━━━━━━━━━━━━━━━━━━\u001b[0m \u001b[32m481.7/481.7 kB\u001b[0m \u001b[31m2.9 MB/s\u001b[0m eta \u001b[36m0:00:00\u001b[0ma \u001b[36m0:00:01\u001b[0m\n",
            "\u001b[?25hDownloading pycryptodome-3.23.0-cp37-abi3-macosx_10_9_universal2.whl (2.5 MB)\n",
            "\u001b[2K   \u001b[90m━━━━━━━━━━━━━━━━━━━━━━━━━━━━━━━━━━━━━━━━\u001b[0m \u001b[32m2.5/2.5 MB\u001b[0m \u001b[31m7.4 MB/s\u001b[0m eta \u001b[36m0:00:00\u001b[0ma \u001b[36m0:00:01\u001b[0m\n",
            "\u001b[?25hUsing cached Deprecated-1.2.18-py2.py3-none-any.whl (10.0 kB)\n",
            "Using cached python_dateutil-2.9.0.post0-py2.py3-none-any.whl (229 kB)\n",
            "Installing collected packages: python-dateutil, pycryptodome, deprecated, pymisp\n",
            "  Attempting uninstall: python-dateutil\n",
            "    Found existing installation: python-dateutil 2.9.0\n",
            "    Uninstalling python-dateutil-2.9.0:\n",
            "      Successfully uninstalled python-dateutil-2.9.0\n",
            "  Attempting uninstall: deprecated\n",
            "    Found existing installation: Deprecated 1.2.14\n",
            "    Uninstalling Deprecated-1.2.14:\n",
            "      Successfully uninstalled Deprecated-1.2.14\n",
            "\u001b[31mERROR: pip's dependency resolver does not currently take into account all the packages that are installed. This behaviour is the source of the following dependency conflicts.\n",
            "label-studio 1.12.1 requires jsonschema==3.2.0, but you have jsonschema 4.23.0 which is incompatible.\n",
            "label-studio 1.12.1 requires numpy<2.0.0,>=1.24.3, but you have numpy 2.2.5 which is incompatible.\n",
            "label-studio 1.12.1 requires pydantic<=1.11.0,>=1.7.3, but you have pydantic 2.9.2 which is incompatible.\n",
            "label-studio 1.12.1 requires requests==2.31.0, but you have requests 2.32.3 which is incompatible.\n",
            "label-studio 1.12.1 requires urllib3<2.0.0,>=1.26.18, but you have urllib3 2.2.3 which is incompatible.\n",
            "gradio 4.31.4 requires numpy~=1.0, but you have numpy 2.2.5 which is incompatible.\n",
            "unstructured-client 0.22.0 requires idna>=3.4, but you have idna 2.10 which is incompatible.\n",
            "pycti 5.3.17 requires requests~=2.28.1, but you have requests 2.32.3 which is incompatible.\n",
            "pycti 5.3.17 requires setuptools~=65.3.0, but you have setuptools 70.0.0 which is incompatible.\u001b[0m\u001b[31m\n",
            "\u001b[0mSuccessfully installed deprecated-1.2.18 pycryptodome-3.23.0 pymisp-2.5.12 python-dateutil-2.9.0.post0\n",
            "\n",
            "\u001b[1m[\u001b[0m\u001b[34;49mnotice\u001b[0m\u001b[1;39;49m]\u001b[0m\u001b[39;49m A new release of pip is available: \u001b[0m\u001b[31;49m24.0\u001b[0m\u001b[39;49m -> \u001b[0m\u001b[32;49m25.1.1\u001b[0m\n",
            "\u001b[1m[\u001b[0m\u001b[34;49mnotice\u001b[0m\u001b[1;39;49m]\u001b[0m\u001b[39;49m To update, run: \u001b[0m\u001b[32;49mpip3 install --upgrade pip\u001b[0m\n"
          ]
        }
      ],
      "source": [
        "!pip3 install pymisp pycryptodome"
      ]
    },
    {
      "cell_type": "code",
      "execution_count": null,
      "metadata": {},
      "outputs": [
        {
          "name": "stdout",
          "output_type": "stream",
          "text": [
            "Encrypted Text: OpR/RJfaK7psxkK9LJPyqT/XbCLOAISR7ryGdSN4kjEStWwyCztV+Rnq0mlx4JbcZiAVdOwEfac=\n"
          ]
        }
      ],
      "source": [
        "from Crypto.Cipher import AES\n",
        "import base64\n",
        "import hashlib\n",
        "from Crypto.Random import get_random_bytes\n",
        "\n",
        "def encrypt(plaintext, key):\n",
        "    key = hashlib.sha256(key.encode()).digest()\n",
        "    cipher = AES.new(key, AES.MODE_EAX)\n",
        "    ciphertext, tag = cipher.encrypt_and_digest(plaintext.encode('utf-8'))\n",
        "    encrypted_data = cipher.nonce + ciphertext\n",
        "    return base64.b64encode(encrypted_data).decode('utf-8')\n",
        "\n",
        "plaintext = \"MISP_API_KEY\"\n",
        "key = \"PROVIDED_KEY_BY_AIS3_COURSE(This is not real key)\"\n",
        "\n",
        "encrypted_text = encrypt(plaintext, key)\n",
        "print(\"Encrypted Text:\", encrypted_text)"
      ]
    },
    {
      "cell_type": "code",
      "execution_count": null,
      "metadata": {
        "id": "m2JUbc8SdVE9"
      },
      "outputs": [
        {
          "name": "stdout",
          "output_type": "stream",
          "text": [
            "Decrypted Text: rqSYiiBDnOAzT2UzQ4iXRALW22zJvlgImu8sGZg2\n"
          ]
        }
      ],
      "source": [
        "from Crypto.Cipher import AES\n",
        "import base64\n",
        "import hashlib\n",
        "\n",
        "def decrypt(encrypted_text, key):\n",
        "    key = hashlib.sha256(key.encode()).digest()\n",
        "    encrypted_text = base64.b64decode(encrypted_text)\n",
        "    nonce = encrypted_text[:16]\n",
        "    ciphertext = encrypted_text[16:]\n",
        "    cipher = AES.new(key, AES.MODE_EAX, nonce=nonce)\n",
        "    plaintext = cipher.decrypt(ciphertext)\n",
        "    return plaintext.decode('utf-8')\n",
        "\n",
        "\n",
        "key = \"PROVIDED_KEY_BY_AIS3_COURSE(This is not real key)\"\n",
        "encrypted_text = \"OpR/RJfaK7psxkK9LJPyqT/XbCLOAISR7ryGdSN4kjEStWwyCztV+Rnq0mlx4JbcZiAVdOwEfac=\"\n",
        "decrypted_text = decrypt(encrypted_text, key)\n",
        "print(\"Decrypted Text:\", decrypted_text)"
      ]
    },
    {
      "cell_type": "code",
      "execution_count": null,
      "metadata": {
        "id": "-FfhPTDPbzaV"
      },
      "outputs": [],
      "source": [
        "from pymisp import MISPEvent,MISPOrganisation, PyMISP\n",
        "from dateutil.parser import parser\n",
        "import json\n",
        "from pymisp.tools import feed_meta_generator\n",
        "from io import BytesIO"
      ]
    },
    {
      "cell_type": "code",
      "execution_count": null,
      "metadata": {
        "id": "UlQos5dOb6NP"
      },
      "outputs": [],
      "source": [
        "make_feed = False\n",
        "misp = None"
      ]
    },
    {
      "cell_type": "code",
      "execution_count": null,
      "metadata": {
        "colab": {
          "base_uri": "https://localhost:8080/"
        },
        "id": "GfX-MvWHcD50",
        "outputId": "529621d1-ff6c-4f0a-e31c-17badccd530a"
      },
      "outputs": [
        {
          "name": "stderr",
          "output_type": "stream",
          "text": [
            "/usr/local/lib/python3.10/dist-packages/urllib3/connectionpool.py:1100: InsecureRequestWarning: Unverified HTTPS request is being made to host 'misp.sectools.tw'. Adding certificate verification is strongly advised. See: https://urllib3.readthedocs.io/en/latest/advanced-usage.html#tls-warnings\n",
            "  warnings.warn(\n",
            "/usr/local/lib/python3.10/dist-packages/urllib3/connectionpool.py:1100: InsecureRequestWarning: Unverified HTTPS request is being made to host 'misp.sectools.tw'. Adding certificate verification is strongly advised. See: https://urllib3.readthedocs.io/en/latest/advanced-usage.html#tls-warnings\n",
            "  warnings.warn(\n",
            "/usr/local/lib/python3.10/dist-packages/urllib3/connectionpool.py:1100: InsecureRequestWarning: Unverified HTTPS request is being made to host 'misp.sectools.tw'. Adding certificate verification is strongly advised. See: https://urllib3.readthedocs.io/en/latest/advanced-usage.html#tls-warnings\n",
            "  warnings.warn(\n"
          ]
        }
      ],
      "source": [
        "if make_feed:\n",
        "    org = MISPOrganisation()\n",
        "    org.name = \"ais3.sectools.tw\"\n",
        "    org.uuid = \"d2ded987-c2f1-4b12-bf1d-ba9872d0d452\"\n",
        "else:\n",
        "    url = \"https://misp.sectools.tw\"\n",
        "    key = decrypted_text\n",
        "    misp = PyMISP(url,key,ssl=False)"
      ]
    },
    {
      "cell_type": "code",
      "execution_count": null,
      "metadata": {
        "colab": {
          "base_uri": "https://localhost:8080/"
        },
        "id": "EXznG3slciCf",
        "outputId": "47db5414-392e-45b0-febe-be3f50208d0e"
      },
      "outputs": [
        {
          "name": "stderr",
          "output_type": "stream",
          "text": [
            "/usr/local/lib/python3.10/dist-packages/urllib3/connectionpool.py:1100: InsecureRequestWarning: Unverified HTTPS request is being made to host 'misp.sectools.tw'. Adding certificate verification is strongly advised. See: https://urllib3.readthedocs.io/en/latest/advanced-usage.html#tls-warnings\n",
            "  warnings.warn(\n",
            "/usr/local/lib/python3.10/dist-packages/urllib3/connectionpool.py:1100: InsecureRequestWarning: Unverified HTTPS request is being made to host 'misp.sectools.tw'. Adding certificate verification is strongly advised. See: https://urllib3.readthedocs.io/en/latest/advanced-usage.html#tls-warnings\n",
            "  warnings.warn(\n"
          ]
        },
        {
          "name": "stdout",
          "output_type": "stream",
          "text": [
            "{\n",
            "  \"uuid\": \"47ab1f90-2747-44f4-be81-a97fa5ab5063\",\n",
            "  \"Object\": [\n",
            "    {\n",
            "      \"name\": \"domain-ip\",\n",
            "      \"meta-category\": \"network\",\n",
            "      \"template_uuid\": \"43b3b146-77eb-4931-b4cc-b66c60f28734\",\n",
            "      \"description\": \"A domain/hostname and IP address seen as a tuple in a specific time frame.\",\n",
            "      \"template_version\": \"11\",\n",
            "      \"uuid\": \"cd5dc499-2c64-4a64-beed-a742da612ba8\",\n",
            "      \"ObjectReference\": [\n",
            "        {\n",
            "          \"uuid\": \"4a292914-ac73-40bd-ad5e-2de7d35ddba6\",\n",
            "          \"object_uuid\": \"cd5dc499-2c64-4a64-beed-a742da612ba8\",\n",
            "          \"referenced_uuid\": \"47ab1f90-2747-44f4-be81-a97fa5ab5063\",\n",
            "          \"relationship_type\": \"related-to\",\n",
            "          \"comment\": \"ais3_friend\"\n",
            "        }\n",
            "      ],\n",
            "      \"Attribute\": [\n",
            "        {\n",
            "          \"uuid\": \"14cc404e-748d-4cf0-a8a1-ef660d3d92a4\",\n",
            "          \"object_relation\": \"ip\",\n",
            "          \"value\": \"192.168.1.1\",\n",
            "          \"type\": \"ip-dst\",\n",
            "          \"category\": \"Network activity\",\n",
            "          \"disable_correlation\": false,\n",
            "          \"to_ids\": true\n",
            "        },\n",
            "        {\n",
            "          \"uuid\": \"99573112-77f0-4822-a9df-8b1cf83c3ac0\",\n",
            "          \"object_relation\": \"first-seen\",\n",
            "          \"value\": \"2024-07-31T11:14:05.545153\",\n",
            "          \"type\": \"datetime\",\n",
            "          \"disable_correlation\": true,\n",
            "          \"to_ids\": false,\n",
            "          \"category\": \"Other\"\n",
            "        }\n",
            "      ],\n",
            "      \"distribution\": \"5\",\n",
            "      \"sharing_group_id\": \"0\"\n",
            "    }\n",
            "  ],\n",
            "  \"Tag\": [\n",
            "    {\n",
            "      \"name\": \"tlp:white\"\n",
            "    }\n",
            "  ],\n",
            "  \"info\": \"[192.168.1.1] is suspected of DDoS\",\n",
            "  \"date\": \"2024-07-31\",\n",
            "  \"distribution\": \"3\"\n",
            "}\n"
          ]
        }
      ],
      "source": [
        "from datetime import datetime\n",
        "from pathlib import Path\n",
        "blacklist_ip = [\"192.168.1.1\"]\n",
        "for p in blacklist_ip:\n",
        "    event = MISPEvent()\n",
        "    event.info = f\"[{str(p)}] is suspected of DDoS\"\n",
        "    event.date = datetime.now()\n",
        "    event.distribution = 3\n",
        "    event.add_tag('tlp:white')\n",
        "    if make_feed:\n",
        "        event.org = org\n",
        "    else:\n",
        "        e = misp.search(eventinfo=event.info, metadata=True, pythonify=True)\n",
        "        if e:\n",
        "            # Already added.\n",
        "            continue\n",
        "\n",
        "    obj_ip = event.add_object(name='domain-ip', standalone=False)\n",
        "    obj_ip.add_attribute('ip', p)\n",
        "    obj_ip.add_attribute('first-seen', datetime.now() )\n",
        "    obj_ip.add_reference(event.uuid, 'related-to',\"ais3_friend\")\n",
        "\n",
        "    if make_feed:\n",
        "        with (Path('output') / f'{event.uuid}.json').open('w') as _w:\n",
        "            json.dump(event.to_feed(), _w)\n",
        "    else:\n",
        "        misp.add_event(event)\n",
        "    print(event.to_json(indent=2))\n",
        "if make_feed:\n",
        "    feed_meta_generator(Path('output'))"
      ]
    },
    {
      "cell_type": "code",
      "execution_count": null,
      "metadata": {
        "id": "zhmQJ3m5fe1p"
      },
      "outputs": [],
      "source": []
    }
  ],
  "metadata": {
    "colab": {
      "authorship_tag": "ABX9TyME6jOqz45lN9B/SGp7V4t9",
      "include_colab_link": true,
      "provenance": []
    },
    "kernelspec": {
      "display_name": "base",
      "language": "python",
      "name": "python3"
    },
    "language_info": {
      "codemirror_mode": {
        "name": "ipython",
        "version": 3
      },
      "file_extension": ".py",
      "mimetype": "text/x-python",
      "name": "python",
      "nbconvert_exporter": "python",
      "pygments_lexer": "ipython3",
      "version": "3.12.2"
    }
  },
  "nbformat": 4,
  "nbformat_minor": 0
}
