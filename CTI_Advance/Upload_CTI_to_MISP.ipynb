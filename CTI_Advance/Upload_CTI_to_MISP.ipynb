{
  "cells": [
    {
      "cell_type": "code",
      "execution_count": 1,
      "metadata": {
        "colab": {
          "base_uri": "https://localhost:8080/"
        },
        "id": "hZ5nYWerb2Zc",
        "outputId": "8bf589d6-e8ea-4605-9256-f7a9565390a3"
      },
      "outputs": [
        {
          "name": "stdout",
          "output_type": "stream",
          "text": [
            "Collecting pymisp\n",
            "  Downloading pymisp-2.5.12-py3-none-any.whl.metadata (8.9 kB)\n",
            "Collecting pycryptodome\n",
            "  Downloading pycryptodome-3.23.0-cp37-abi3-manylinux_2_17_x86_64.manylinux2014_x86_64.whl.metadata (3.4 kB)\n",
            "Collecting deprecated>=1.2.18 (from pymisp)\n",
            "  Downloading Deprecated-1.2.18-py2.py3-none-any.whl.metadata (5.7 kB)\n",
            "Requirement already satisfied: python-dateutil>=2.9.0.post0 in /usr/local/lib/python3.11/dist-packages (from pymisp) (2.9.0.post0)\n",
            "Requirement already satisfied: requests>=2.32.3 in /usr/local/lib/python3.11/dist-packages (from pymisp) (2.32.3)\n",
            "Requirement already satisfied: wrapt<2,>=1.10 in /usr/local/lib/python3.11/dist-packages (from deprecated>=1.2.18->pymisp) (1.17.2)\n",
            "Requirement already satisfied: six>=1.5 in /usr/local/lib/python3.11/dist-packages (from python-dateutil>=2.9.0.post0->pymisp) (1.17.0)\n",
            "Requirement already satisfied: charset-normalizer<4,>=2 in /usr/local/lib/python3.11/dist-packages (from requests>=2.32.3->pymisp) (3.4.2)\n",
            "Requirement already satisfied: idna<4,>=2.5 in /usr/local/lib/python3.11/dist-packages (from requests>=2.32.3->pymisp) (3.10)\n",
            "Requirement already satisfied: urllib3<3,>=1.21.1 in /usr/local/lib/python3.11/dist-packages (from requests>=2.32.3->pymisp) (2.5.0)\n",
            "Requirement already satisfied: certifi>=2017.4.17 in /usr/local/lib/python3.11/dist-packages (from requests>=2.32.3->pymisp) (2025.7.14)\n",
            "Downloading pymisp-2.5.12-py3-none-any.whl (481 kB)\n",
            "\u001b[2K   \u001b[90m━━━━━━━━━━━━━━━━━━━━━━━━━━━━━━━━━━━━━━━━\u001b[0m \u001b[32m481.7/481.7 kB\u001b[0m \u001b[31m7.1 MB/s\u001b[0m eta \u001b[36m0:00:00\u001b[0m\n",
            "\u001b[?25hDownloading pycryptodome-3.23.0-cp37-abi3-manylinux_2_17_x86_64.manylinux2014_x86_64.whl (2.3 MB)\n",
            "\u001b[2K   \u001b[90m━━━━━━━━━━━━━━━━━━━━━━━━━━━━━━━━━━━━━━━━\u001b[0m \u001b[32m2.3/2.3 MB\u001b[0m \u001b[31m50.1 MB/s\u001b[0m eta \u001b[36m0:00:00\u001b[0m\n",
            "\u001b[?25hDownloading Deprecated-1.2.18-py2.py3-none-any.whl (10.0 kB)\n",
            "Installing collected packages: pycryptodome, deprecated, pymisp\n",
            "Successfully installed deprecated-1.2.18 pycryptodome-3.23.0 pymisp-2.5.12\n"
          ]
        }
      ],
      "source": [
        "!pip3 install pymisp pycryptodome"
      ]
    },
    {
      "cell_type": "code",
      "execution_count": 3,
      "metadata": {
        "id": "BItQSdRb7P48"
      },
      "outputs": [],
      "source": [
        "from Crypto.Cipher import AES\n",
        "import base64\n",
        "import hashlib\n",
        "from Crypto.Random import get_random_bytes\n",
        "\n",
        "def encrypt(plaintext, key):\n",
        "    key = hashlib.sha256(key.encode()).digest()\n",
        "    cipher = AES.new(key, AES.MODE_EAX)\n",
        "    ciphertext, tag = cipher.encrypt_and_digest(plaintext.encode('utf-8'))\n",
        "    encrypted_data = cipher.nonce + ciphertext\n",
        "    return base64.b64encode(encrypted_data).decode('utf-8')\n",
        "\n",
        "plaintext = \"MISP_API_KEY\"\n",
        "key = \"PROVIDED_KEY_BY_AIS3_COURSE(This is not real key)\"\n",
        "\n",
        "# encrypted_text = encrypt(plaintext, key)\n",
        "# print(\"Encrypted Text:\", encrypted_text)"
      ]
    },
    {
      "cell_type": "code",
      "execution_count": null,
      "metadata": {
        "colab": {
          "base_uri": "https://localhost:8080/"
        },
        "id": "m2JUbc8SdVE9",
        "outputId": "8baa4e30-c657-41b2-903d-cac18c52faac"
      },
      "outputs": [
        {
          "name": "stdout",
          "output_type": "stream",
          "text": [
            "Decrypted Text: rqSYiiBDnOAzT2UzQ4iXRALW22zJvlgImu8sGZg2\n"
          ]
        }
      ],
      "source": [
        "from Crypto.Cipher import AES\n",
        "import base64\n",
        "import hashlib\n",
        "\n",
        "def decrypt(encrypted_text, key):\n",
        "    key = hashlib.sha256(key.encode()).digest()\n",
        "    encrypted_text = base64.b64decode(encrypted_text)\n",
        "    nonce = encrypted_text[:16]\n",
        "    ciphertext = encrypted_text[16:]\n",
        "    cipher = AES.new(key, AES.MODE_EAX, nonce=nonce)\n",
        "    plaintext = cipher.decrypt(ciphertext)\n",
        "    return plaintext.decode('utf-8')\n",
        "\n",
        "\n",
        "key = \"PROVIDED_KEY_BY_AIS3_COURSE(This is not real key)\"\n",
        "encrypted_text = \"OpR/RJfaK7psxkK9LJPyqT/XbCLOAISR7ryGdSN4kjEStWwyCztV+Rnq0mlx4JbcZiAVdOwEfac=\"\n",
        "decrypted_text = decrypt(encrypted_text, key)\n",
        "print(\"Decrypted Text:\", decrypted_text)"
      ]
    },
    {
      "cell_type": "code",
      "execution_count": 11,
      "metadata": {
        "colab": {
          "base_uri": "https://localhost:8080/"
        },
        "id": "6oC8CE409l2m",
        "outputId": "d7a46dd1-3754-4b48-a999-6651d988abdd"
      },
      "outputs": [
        {
          "name": "stdout",
          "output_type": "stream",
          "text": [
            "144.126.207.244\n",
            "87.106.188.106\n"
          ]
        }
      ],
      "source": [
        "# 請註冊一個 ABuseIPDB 的 API Key\n",
        "# https://www.abuseipdb.com/account\n",
        "# 然後填在下面 API_KEY\n",
        "\n",
        "import requests\n",
        "import random\n",
        "\n",
        "API_KEY = 'YOUR_API_KEY'\n",
        "\n",
        "url = 'https://api.abuseipdb.com/api/v2/blacklist'\n",
        "headers = {\n",
        "    'Key': API_KEY,\n",
        "    'Accept': 'application/json'\n",
        "}\n",
        "params = {\n",
        "    'confidenceMinimum': 90,\n",
        "    'limit': 100\n",
        "}\n",
        "\n",
        "response = requests.get(url, headers=headers, params=params)\n",
        "data = response.json()\n",
        "\n",
        "# 隨機取 2 筆 IP\n",
        "ips = data['data']\n",
        "random_ips = random.sample(ips, 2)\n",
        "\n",
        "for ip in random_ips:\n",
        "    print(ip['ipAddress'])\n"
      ]
    },
    {
      "cell_type": "code",
      "execution_count": 12,
      "metadata": {
        "id": "-FfhPTDPbzaV"
      },
      "outputs": [],
      "source": [
        "from pymisp import MISPEvent,MISPOrganisation, PyMISP\n",
        "from dateutil.parser import parser\n",
        "import json\n",
        "from pymisp.tools import feed_meta_generator\n",
        "from io import BytesIO"
      ]
    },
    {
      "cell_type": "code",
      "execution_count": 13,
      "metadata": {
        "id": "UlQos5dOb6NP"
      },
      "outputs": [],
      "source": [
        "make_feed = False\n",
        "misp = None"
      ]
    },
    {
      "cell_type": "code",
      "execution_count": 14,
      "metadata": {
        "colab": {
          "base_uri": "https://localhost:8080/"
        },
        "id": "GfX-MvWHcD50",
        "outputId": "dd84db23-6ca5-4d9b-fcfe-1d764bbe8bca"
      },
      "outputs": [
        {
          "name": "stderr",
          "output_type": "stream",
          "text": [
            "/usr/local/lib/python3.11/dist-packages/urllib3/connectionpool.py:1097: InsecureRequestWarning: Unverified HTTPS request is being made to host 'misp.sectools.tw'. Adding certificate verification is strongly advised. See: https://urllib3.readthedocs.io/en/latest/advanced-usage.html#tls-warnings\n",
            "  warnings.warn(\n",
            "/usr/local/lib/python3.11/dist-packages/urllib3/connectionpool.py:1097: InsecureRequestWarning: Unverified HTTPS request is being made to host 'misp.sectools.tw'. Adding certificate verification is strongly advised. See: https://urllib3.readthedocs.io/en/latest/advanced-usage.html#tls-warnings\n",
            "  warnings.warn(\n",
            "/usr/local/lib/python3.11/dist-packages/urllib3/connectionpool.py:1097: InsecureRequestWarning: Unverified HTTPS request is being made to host 'misp.sectools.tw'. Adding certificate verification is strongly advised. See: https://urllib3.readthedocs.io/en/latest/advanced-usage.html#tls-warnings\n",
            "  warnings.warn(\n"
          ]
        }
      ],
      "source": [
        "if make_feed:\n",
        "    org = MISPOrganisation()\n",
        "    org.name = \"ais3.sectools.tw\"\n",
        "    org.uuid = \"d2ded987-c2f1-4b12-bf1d-ba9872d0d452\"\n",
        "else:\n",
        "    url = \"https://misp.sectools.tw\"\n",
        "    key = decrypted_text\n",
        "    misp = PyMISP(url,key,ssl=False)"
      ]
    },
    {
      "cell_type": "code",
      "execution_count": 15,
      "metadata": {
        "colab": {
          "base_uri": "https://localhost:8080/"
        },
        "id": "EXznG3slciCf",
        "outputId": "876e98df-936c-437b-e774-8ce67c76bfcf"
      },
      "outputs": [
        {
          "name": "stderr",
          "output_type": "stream",
          "text": [
            "/usr/local/lib/python3.11/dist-packages/urllib3/connectionpool.py:1097: InsecureRequestWarning: Unverified HTTPS request is being made to host 'misp.sectools.tw'. Adding certificate verification is strongly advised. See: https://urllib3.readthedocs.io/en/latest/advanced-usage.html#tls-warnings\n",
            "  warnings.warn(\n",
            "/usr/local/lib/python3.11/dist-packages/urllib3/connectionpool.py:1097: InsecureRequestWarning: Unverified HTTPS request is being made to host 'misp.sectools.tw'. Adding certificate verification is strongly advised. See: https://urllib3.readthedocs.io/en/latest/advanced-usage.html#tls-warnings\n",
            "  warnings.warn(\n"
          ]
        },
        {
          "name": "stdout",
          "output_type": "stream",
          "text": [
            "{\n",
            "  \"uuid\": \"95c8f4f6-9170-4262-89cf-0fa5369c1db1\",\n",
            "  \"Object\": [\n",
            "    {\n",
            "      \"name\": \"domain-ip\",\n",
            "      \"meta-category\": \"network\",\n",
            "      \"template_uuid\": \"43b3b146-77eb-4931-b4cc-b66c60f28734\",\n",
            "      \"description\": \"A domain/hostname and IP address seen as a tuple in a specific time frame.\",\n",
            "      \"template_version\": \"11\",\n",
            "      \"uuid\": \"79ddbc2e-028f-4abd-b0b2-5d7108b347dd\",\n",
            "      \"ObjectReference\": [\n",
            "        {\n",
            "          \"uuid\": \"9fc70421-164f-48b2-971b-f4dbe2472b13\",\n",
            "          \"object_uuid\": \"79ddbc2e-028f-4abd-b0b2-5d7108b347dd\",\n",
            "          \"referenced_uuid\": \"95c8f4f6-9170-4262-89cf-0fa5369c1db1\",\n",
            "          \"relationship_type\": \"related-to\",\n",
            "          \"comment\": \"ais3_friend\"\n",
            "        }\n",
            "      ],\n",
            "      \"Attribute\": [\n",
            "        {\n",
            "          \"uuid\": \"c7c78169-e5fe-4af6-8f29-bc841ebd7840\",\n",
            "          \"object_relation\": \"ip\",\n",
            "          \"value\": \"8\",\n",
            "          \"type\": \"ip-dst\",\n",
            "          \"category\": \"Network activity\",\n",
            "          \"disable_correlation\": false,\n",
            "          \"to_ids\": true\n",
            "        },\n",
            "        {\n",
            "          \"uuid\": \"a4520375-c569-4b86-a49a-ba2130f818ef\",\n",
            "          \"object_relation\": \"first-seen\",\n",
            "          \"value\": \"2025-07-29T16:15:38.797675\",\n",
            "          \"type\": \"datetime\",\n",
            "          \"disable_correlation\": true,\n",
            "          \"to_ids\": false,\n",
            "          \"category\": \"Other\"\n",
            "        }\n",
            "      ],\n",
            "      \"distribution\": \"5\",\n",
            "      \"sharing_group_id\": \"0\"\n",
            "    }\n",
            "  ],\n",
            "  \"Tag\": [\n",
            "    {\n",
            "      \"name\": \"tlp:white\"\n",
            "    }\n",
            "  ],\n",
            "  \"info\": \"[8] is suspected of DDoS, found by PLEASE_TYPE_YOUR_NICK_NAME\",\n",
            "  \"date\": \"2025-07-29\",\n",
            "  \"distribution\": \"3\"\n",
            "}\n"
          ]
        },
        {
          "name": "stderr",
          "output_type": "stream",
          "text": [
            "/usr/local/lib/python3.11/dist-packages/urllib3/connectionpool.py:1097: InsecureRequestWarning: Unverified HTTPS request is being made to host 'misp.sectools.tw'. Adding certificate verification is strongly advised. See: https://urllib3.readthedocs.io/en/latest/advanced-usage.html#tls-warnings\n",
            "  warnings.warn(\n",
            "/usr/local/lib/python3.11/dist-packages/urllib3/connectionpool.py:1097: InsecureRequestWarning: Unverified HTTPS request is being made to host 'misp.sectools.tw'. Adding certificate verification is strongly advised. See: https://urllib3.readthedocs.io/en/latest/advanced-usage.html#tls-warnings\n",
            "  warnings.warn(\n"
          ]
        },
        {
          "name": "stdout",
          "output_type": "stream",
          "text": [
            "{\n",
            "  \"uuid\": \"01135f6a-be09-4b7d-acc7-84853836d448\",\n",
            "  \"Object\": [\n",
            "    {\n",
            "      \"name\": \"domain-ip\",\n",
            "      \"meta-category\": \"network\",\n",
            "      \"template_uuid\": \"43b3b146-77eb-4931-b4cc-b66c60f28734\",\n",
            "      \"description\": \"A domain/hostname and IP address seen as a tuple in a specific time frame.\",\n",
            "      \"template_version\": \"11\",\n",
            "      \"uuid\": \"edca2d51-0939-447b-8d1d-6c8e3b185b4c\",\n",
            "      \"ObjectReference\": [\n",
            "        {\n",
            "          \"uuid\": \"c133e857-1432-4ed4-921f-5dba5d80aa15\",\n",
            "          \"object_uuid\": \"edca2d51-0939-447b-8d1d-6c8e3b185b4c\",\n",
            "          \"referenced_uuid\": \"01135f6a-be09-4b7d-acc7-84853836d448\",\n",
            "          \"relationship_type\": \"related-to\",\n",
            "          \"comment\": \"ais3_friend\"\n",
            "        }\n",
            "      ],\n",
            "      \"Attribute\": [\n",
            "        {\n",
            "          \"uuid\": \"e15feebd-4121-4ef5-b361-67410c9c64dd\",\n",
            "          \"object_relation\": \"ip\",\n",
            "          \"value\": \"7\",\n",
            "          \"type\": \"ip-dst\",\n",
            "          \"category\": \"Network activity\",\n",
            "          \"disable_correlation\": false,\n",
            "          \"to_ids\": true\n",
            "        },\n",
            "        {\n",
            "          \"uuid\": \"59289e46-5aad-4aab-988f-2e9dd3f181bb\",\n",
            "          \"object_relation\": \"first-seen\",\n",
            "          \"value\": \"2025-07-29T16:15:39.502849\",\n",
            "          \"type\": \"datetime\",\n",
            "          \"disable_correlation\": true,\n",
            "          \"to_ids\": false,\n",
            "          \"category\": \"Other\"\n",
            "        }\n",
            "      ],\n",
            "      \"distribution\": \"5\",\n",
            "      \"sharing_group_id\": \"0\"\n",
            "    }\n",
            "  ],\n",
            "  \"Tag\": [\n",
            "    {\n",
            "      \"name\": \"tlp:white\"\n",
            "    }\n",
            "  ],\n",
            "  \"info\": \"[7] is suspected of DDoS, found by PLEASE_TYPE_YOUR_NICK_NAME\",\n",
            "  \"date\": \"2025-07-29\",\n",
            "  \"distribution\": \"3\"\n",
            "}\n"
          ]
        },
        {
          "name": "stderr",
          "output_type": "stream",
          "text": [
            "/usr/local/lib/python3.11/dist-packages/urllib3/connectionpool.py:1097: InsecureRequestWarning: Unverified HTTPS request is being made to host 'misp.sectools.tw'. Adding certificate verification is strongly advised. See: https://urllib3.readthedocs.io/en/latest/advanced-usage.html#tls-warnings\n",
            "  warnings.warn(\n",
            "/usr/local/lib/python3.11/dist-packages/urllib3/connectionpool.py:1097: InsecureRequestWarning: Unverified HTTPS request is being made to host 'misp.sectools.tw'. Adding certificate verification is strongly advised. See: https://urllib3.readthedocs.io/en/latest/advanced-usage.html#tls-warnings\n",
            "  warnings.warn(\n"
          ]
        },
        {
          "name": "stdout",
          "output_type": "stream",
          "text": [
            "{\n",
            "  \"uuid\": \"e3d5d7a6-94ed-49b9-9705-7a50eea6d5c8\",\n",
            "  \"Object\": [\n",
            "    {\n",
            "      \"name\": \"domain-ip\",\n",
            "      \"meta-category\": \"network\",\n",
            "      \"template_uuid\": \"43b3b146-77eb-4931-b4cc-b66c60f28734\",\n",
            "      \"description\": \"A domain/hostname and IP address seen as a tuple in a specific time frame.\",\n",
            "      \"template_version\": \"11\",\n",
            "      \"uuid\": \"61259b20-0479-43b9-b1e9-573faa0f5ddd\",\n",
            "      \"ObjectReference\": [\n",
            "        {\n",
            "          \"uuid\": \"fe29eb95-34f6-46b3-b460-ac4332495ea6\",\n",
            "          \"object_uuid\": \"61259b20-0479-43b9-b1e9-573faa0f5ddd\",\n",
            "          \"referenced_uuid\": \"e3d5d7a6-94ed-49b9-9705-7a50eea6d5c8\",\n",
            "          \"relationship_type\": \"related-to\",\n",
            "          \"comment\": \"ais3_friend\"\n",
            "        }\n",
            "      ],\n",
            "      \"Attribute\": [\n",
            "        {\n",
            "          \"uuid\": \"0ce9cd90-4542-4d06-951b-a1576bbd5b2e\",\n",
            "          \"object_relation\": \"ip\",\n",
            "          \"value\": \".\",\n",
            "          \"type\": \"ip-dst\",\n",
            "          \"category\": \"Network activity\",\n",
            "          \"disable_correlation\": false,\n",
            "          \"to_ids\": true\n",
            "        },\n",
            "        {\n",
            "          \"uuid\": \"1270cc76-61c6-4a93-ad39-e65a47dabd8b\",\n",
            "          \"object_relation\": \"first-seen\",\n",
            "          \"value\": \"2025-07-29T16:15:40.207482\",\n",
            "          \"type\": \"datetime\",\n",
            "          \"disable_correlation\": true,\n",
            "          \"to_ids\": false,\n",
            "          \"category\": \"Other\"\n",
            "        }\n",
            "      ],\n",
            "      \"distribution\": \"5\",\n",
            "      \"sharing_group_id\": \"0\"\n",
            "    }\n",
            "  ],\n",
            "  \"Tag\": [\n",
            "    {\n",
            "      \"name\": \"tlp:white\"\n",
            "    }\n",
            "  ],\n",
            "  \"info\": \"[.] is suspected of DDoS, found by PLEASE_TYPE_YOUR_NICK_NAME\",\n",
            "  \"date\": \"2025-07-29\",\n",
            "  \"distribution\": \"3\"\n",
            "}\n"
          ]
        },
        {
          "name": "stderr",
          "output_type": "stream",
          "text": [
            "/usr/local/lib/python3.11/dist-packages/urllib3/connectionpool.py:1097: InsecureRequestWarning: Unverified HTTPS request is being made to host 'misp.sectools.tw'. Adding certificate verification is strongly advised. See: https://urllib3.readthedocs.io/en/latest/advanced-usage.html#tls-warnings\n",
            "  warnings.warn(\n",
            "/usr/local/lib/python3.11/dist-packages/urllib3/connectionpool.py:1097: InsecureRequestWarning: Unverified HTTPS request is being made to host 'misp.sectools.tw'. Adding certificate verification is strongly advised. See: https://urllib3.readthedocs.io/en/latest/advanced-usage.html#tls-warnings\n",
            "  warnings.warn(\n"
          ]
        },
        {
          "name": "stdout",
          "output_type": "stream",
          "text": [
            "{\n",
            "  \"uuid\": \"3b007cd3-8b5e-4fd4-bfdf-769cea859b3b\",\n",
            "  \"Object\": [\n",
            "    {\n",
            "      \"name\": \"domain-ip\",\n",
            "      \"meta-category\": \"network\",\n",
            "      \"template_uuid\": \"43b3b146-77eb-4931-b4cc-b66c60f28734\",\n",
            "      \"description\": \"A domain/hostname and IP address seen as a tuple in a specific time frame.\",\n",
            "      \"template_version\": \"11\",\n",
            "      \"uuid\": \"7afe8628-118e-426e-8925-737442aed7bb\",\n",
            "      \"ObjectReference\": [\n",
            "        {\n",
            "          \"uuid\": \"e716ee4c-c454-4d59-84a4-58255904e1f5\",\n",
            "          \"object_uuid\": \"7afe8628-118e-426e-8925-737442aed7bb\",\n",
            "          \"referenced_uuid\": \"3b007cd3-8b5e-4fd4-bfdf-769cea859b3b\",\n",
            "          \"relationship_type\": \"related-to\",\n",
            "          \"comment\": \"ais3_friend\"\n",
            "        }\n",
            "      ],\n",
            "      \"Attribute\": [\n",
            "        {\n",
            "          \"uuid\": \"a791667e-429a-4f57-bc3b-3a3c3bd3307b\",\n",
            "          \"object_relation\": \"ip\",\n",
            "          \"value\": \"1\",\n",
            "          \"type\": \"ip-dst\",\n",
            "          \"category\": \"Network activity\",\n",
            "          \"disable_correlation\": false,\n",
            "          \"to_ids\": true\n",
            "        },\n",
            "        {\n",
            "          \"uuid\": \"3ab07047-666c-4d80-8303-7e83972e3018\",\n",
            "          \"object_relation\": \"first-seen\",\n",
            "          \"value\": \"2025-07-29T16:15:40.923536\",\n",
            "          \"type\": \"datetime\",\n",
            "          \"disable_correlation\": true,\n",
            "          \"to_ids\": false,\n",
            "          \"category\": \"Other\"\n",
            "        }\n",
            "      ],\n",
            "      \"distribution\": \"5\",\n",
            "      \"sharing_group_id\": \"0\"\n",
            "    }\n",
            "  ],\n",
            "  \"Tag\": [\n",
            "    {\n",
            "      \"name\": \"tlp:white\"\n",
            "    }\n",
            "  ],\n",
            "  \"info\": \"[1] is suspected of DDoS, found by PLEASE_TYPE_YOUR_NICK_NAME\",\n",
            "  \"date\": \"2025-07-29\",\n",
            "  \"distribution\": \"3\"\n",
            "}\n"
          ]
        },
        {
          "name": "stderr",
          "output_type": "stream",
          "text": [
            "/usr/local/lib/python3.11/dist-packages/urllib3/connectionpool.py:1097: InsecureRequestWarning: Unverified HTTPS request is being made to host 'misp.sectools.tw'. Adding certificate verification is strongly advised. See: https://urllib3.readthedocs.io/en/latest/advanced-usage.html#tls-warnings\n",
            "  warnings.warn(\n",
            "/usr/local/lib/python3.11/dist-packages/urllib3/connectionpool.py:1097: InsecureRequestWarning: Unverified HTTPS request is being made to host 'misp.sectools.tw'. Adding certificate verification is strongly advised. See: https://urllib3.readthedocs.io/en/latest/advanced-usage.html#tls-warnings\n",
            "  warnings.warn(\n"
          ]
        },
        {
          "name": "stdout",
          "output_type": "stream",
          "text": [
            "{\n",
            "  \"uuid\": \"017188f6-1bdb-47f8-9868-5bec95040cd3\",\n",
            "  \"Object\": [\n",
            "    {\n",
            "      \"name\": \"domain-ip\",\n",
            "      \"meta-category\": \"network\",\n",
            "      \"template_uuid\": \"43b3b146-77eb-4931-b4cc-b66c60f28734\",\n",
            "      \"description\": \"A domain/hostname and IP address seen as a tuple in a specific time frame.\",\n",
            "      \"template_version\": \"11\",\n",
            "      \"uuid\": \"231286c6-abb0-4964-9845-8ee65a1fc0c0\",\n",
            "      \"ObjectReference\": [\n",
            "        {\n",
            "          \"uuid\": \"2910bd96-9038-4fda-b194-6498227530ce\",\n",
            "          \"object_uuid\": \"231286c6-abb0-4964-9845-8ee65a1fc0c0\",\n",
            "          \"referenced_uuid\": \"017188f6-1bdb-47f8-9868-5bec95040cd3\",\n",
            "          \"relationship_type\": \"related-to\",\n",
            "          \"comment\": \"ais3_friend\"\n",
            "        }\n",
            "      ],\n",
            "      \"Attribute\": [\n",
            "        {\n",
            "          \"uuid\": \"8e2a6a25-a8ad-437f-8d5a-eb9f7f7af571\",\n",
            "          \"object_relation\": \"ip\",\n",
            "          \"value\": \"0\",\n",
            "          \"type\": \"ip-dst\",\n",
            "          \"category\": \"Network activity\",\n",
            "          \"disable_correlation\": false,\n",
            "          \"to_ids\": true\n",
            "        },\n",
            "        {\n",
            "          \"uuid\": \"6f8d6c4a-a492-4c11-92c2-2a1188ab822c\",\n",
            "          \"object_relation\": \"first-seen\",\n",
            "          \"value\": \"2025-07-29T16:15:41.619695\",\n",
            "          \"type\": \"datetime\",\n",
            "          \"disable_correlation\": true,\n",
            "          \"to_ids\": false,\n",
            "          \"category\": \"Other\"\n",
            "        }\n",
            "      ],\n",
            "      \"distribution\": \"5\",\n",
            "      \"sharing_group_id\": \"0\"\n",
            "    }\n",
            "  ],\n",
            "  \"Tag\": [\n",
            "    {\n",
            "      \"name\": \"tlp:white\"\n",
            "    }\n",
            "  ],\n",
            "  \"info\": \"[0] is suspected of DDoS, found by PLEASE_TYPE_YOUR_NICK_NAME\",\n",
            "  \"date\": \"2025-07-29\",\n",
            "  \"distribution\": \"3\"\n",
            "}\n"
          ]
        },
        {
          "name": "stderr",
          "output_type": "stream",
          "text": [
            "/usr/local/lib/python3.11/dist-packages/urllib3/connectionpool.py:1097: InsecureRequestWarning: Unverified HTTPS request is being made to host 'misp.sectools.tw'. Adding certificate verification is strongly advised. See: https://urllib3.readthedocs.io/en/latest/advanced-usage.html#tls-warnings\n",
            "  warnings.warn(\n",
            "/usr/local/lib/python3.11/dist-packages/urllib3/connectionpool.py:1097: InsecureRequestWarning: Unverified HTTPS request is being made to host 'misp.sectools.tw'. Adding certificate verification is strongly advised. See: https://urllib3.readthedocs.io/en/latest/advanced-usage.html#tls-warnings\n",
            "  warnings.warn(\n"
          ]
        },
        {
          "name": "stdout",
          "output_type": "stream",
          "text": [
            "{\n",
            "  \"uuid\": \"a0918f8d-e07a-446e-9210-66618581f91c\",\n",
            "  \"Object\": [\n",
            "    {\n",
            "      \"name\": \"domain-ip\",\n",
            "      \"meta-category\": \"network\",\n",
            "      \"template_uuid\": \"43b3b146-77eb-4931-b4cc-b66c60f28734\",\n",
            "      \"description\": \"A domain/hostname and IP address seen as a tuple in a specific time frame.\",\n",
            "      \"template_version\": \"11\",\n",
            "      \"uuid\": \"223fe539-682d-4344-959a-ae35de42f05b\",\n",
            "      \"ObjectReference\": [\n",
            "        {\n",
            "          \"uuid\": \"c225c5b2-e1ff-41db-85bc-f33d6bcabf68\",\n",
            "          \"object_uuid\": \"223fe539-682d-4344-959a-ae35de42f05b\",\n",
            "          \"referenced_uuid\": \"a0918f8d-e07a-446e-9210-66618581f91c\",\n",
            "          \"relationship_type\": \"related-to\",\n",
            "          \"comment\": \"ais3_friend\"\n",
            "        }\n",
            "      ],\n",
            "      \"Attribute\": [\n",
            "        {\n",
            "          \"uuid\": \"9925373a-5ec1-4898-87bf-216d7cdea98c\",\n",
            "          \"object_relation\": \"ip\",\n",
            "          \"value\": \"6\",\n",
            "          \"type\": \"ip-dst\",\n",
            "          \"category\": \"Network activity\",\n",
            "          \"disable_correlation\": false,\n",
            "          \"to_ids\": true\n",
            "        },\n",
            "        {\n",
            "          \"uuid\": \"c2617c3e-5a3f-4ef5-b737-bcce3ad89656\",\n",
            "          \"object_relation\": \"first-seen\",\n",
            "          \"value\": \"2025-07-29T16:15:42.322058\",\n",
            "          \"type\": \"datetime\",\n",
            "          \"disable_correlation\": true,\n",
            "          \"to_ids\": false,\n",
            "          \"category\": \"Other\"\n",
            "        }\n",
            "      ],\n",
            "      \"distribution\": \"5\",\n",
            "      \"sharing_group_id\": \"0\"\n",
            "    }\n",
            "  ],\n",
            "  \"Tag\": [\n",
            "    {\n",
            "      \"name\": \"tlp:white\"\n",
            "    }\n",
            "  ],\n",
            "  \"info\": \"[6] is suspected of DDoS, found by PLEASE_TYPE_YOUR_NICK_NAME\",\n",
            "  \"date\": \"2025-07-29\",\n",
            "  \"distribution\": \"3\"\n",
            "}\n"
          ]
        },
        {
          "name": "stderr",
          "output_type": "stream",
          "text": [
            "/usr/local/lib/python3.11/dist-packages/urllib3/connectionpool.py:1097: InsecureRequestWarning: Unverified HTTPS request is being made to host 'misp.sectools.tw'. Adding certificate verification is strongly advised. See: https://urllib3.readthedocs.io/en/latest/advanced-usage.html#tls-warnings\n",
            "  warnings.warn(\n",
            "/usr/local/lib/python3.11/dist-packages/urllib3/connectionpool.py:1097: InsecureRequestWarning: Unverified HTTPS request is being made to host 'misp.sectools.tw'. Adding certificate verification is strongly advised. See: https://urllib3.readthedocs.io/en/latest/advanced-usage.html#tls-warnings\n",
            "  warnings.warn(\n",
            "/usr/local/lib/python3.11/dist-packages/urllib3/connectionpool.py:1097: InsecureRequestWarning: Unverified HTTPS request is being made to host 'misp.sectools.tw'. Adding certificate verification is strongly advised. See: https://urllib3.readthedocs.io/en/latest/advanced-usage.html#tls-warnings\n",
            "  warnings.warn(\n",
            "/usr/local/lib/python3.11/dist-packages/urllib3/connectionpool.py:1097: InsecureRequestWarning: Unverified HTTPS request is being made to host 'misp.sectools.tw'. Adding certificate verification is strongly advised. See: https://urllib3.readthedocs.io/en/latest/advanced-usage.html#tls-warnings\n",
            "  warnings.warn(\n",
            "/usr/local/lib/python3.11/dist-packages/urllib3/connectionpool.py:1097: InsecureRequestWarning: Unverified HTTPS request is being made to host 'misp.sectools.tw'. Adding certificate verification is strongly advised. See: https://urllib3.readthedocs.io/en/latest/advanced-usage.html#tls-warnings\n",
            "  warnings.warn(\n",
            "/usr/local/lib/python3.11/dist-packages/urllib3/connectionpool.py:1097: InsecureRequestWarning: Unverified HTTPS request is being made to host 'misp.sectools.tw'. Adding certificate verification is strongly advised. See: https://urllib3.readthedocs.io/en/latest/advanced-usage.html#tls-warnings\n",
            "  warnings.warn(\n",
            "/usr/local/lib/python3.11/dist-packages/urllib3/connectionpool.py:1097: InsecureRequestWarning: Unverified HTTPS request is being made to host 'misp.sectools.tw'. Adding certificate verification is strongly advised. See: https://urllib3.readthedocs.io/en/latest/advanced-usage.html#tls-warnings\n",
            "  warnings.warn(\n",
            "/usr/local/lib/python3.11/dist-packages/urllib3/connectionpool.py:1097: InsecureRequestWarning: Unverified HTTPS request is being made to host 'misp.sectools.tw'. Adding certificate verification is strongly advised. See: https://urllib3.readthedocs.io/en/latest/advanced-usage.html#tls-warnings\n",
            "  warnings.warn(\n"
          ]
        }
      ],
      "source": [
        "from datetime import datetime\n",
        "from pathlib import Path\n",
        "blacklist_ip = ip['ipAddress']\n",
        "nick_name = \"PLEASE_TYPE_YOUR_NICK_NAME\"\n",
        "for p in blacklist_ip:\n",
        "    event = MISPEvent()\n",
        "    event.info = f\"[{str(p)}] is suspected of DDoS, found by {str(nick_name)}\"\n",
        "    event.date = datetime.now()\n",
        "    event.distribution = 3\n",
        "    event.add_tag('tlp:white')\n",
        "    if make_feed:\n",
        "        event.org = org\n",
        "    else:\n",
        "        e = misp.search(eventinfo=event.info, metadata=True, pythonify=True)\n",
        "        if e:\n",
        "            # Already added.\n",
        "            continue\n",
        "\n",
        "    obj_ip = event.add_object(name='domain-ip', standalone=False)\n",
        "    obj_ip.add_attribute('ip', p)\n",
        "    obj_ip.add_attribute('first-seen', datetime.now() )\n",
        "    obj_ip.add_reference(event.uuid, 'related-to',\"ais3_friend\")\n",
        "\n",
        "    if make_feed:\n",
        "        with (Path('output') / f'{event.uuid}.json').open('w') as _w:\n",
        "            json.dump(event.to_feed(), _w)\n",
        "    else:\n",
        "        misp.add_event(event)\n",
        "    print(event.to_json(indent=2))\n",
        "if make_feed:\n",
        "    feed_meta_generator(Path('output'))"
      ]
    },
    {
      "cell_type": "code",
      "execution_count": 15,
      "metadata": {
        "id": "zhmQJ3m5fe1p"
      },
      "outputs": [],
      "source": []
    }
  ],
  "metadata": {
    "colab": {
      "provenance": []
    },
    "kernelspec": {
      "display_name": "base",
      "language": "python",
      "name": "python3"
    },
    "language_info": {
      "codemirror_mode": {
        "name": "ipython",
        "version": 3
      },
      "file_extension": ".py",
      "mimetype": "text/x-python",
      "name": "python",
      "nbconvert_exporter": "python",
      "pygments_lexer": "ipython3",
      "version": "3.12.2"
    }
  },
  "nbformat": 4,
  "nbformat_minor": 0
}
